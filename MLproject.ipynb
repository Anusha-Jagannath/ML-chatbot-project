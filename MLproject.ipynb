{
 "cells": [
  {
   "cell_type": "code",
   "execution_count": 2,
   "metadata": {},
   "outputs": [],
   "source": [
    "#library:chatterbot\n",
    "#class:ChatBot\n",
    "from chatterbot import ChatBot"
   ]
  },
  {
   "cell_type": "code",
   "execution_count": 24,
   "metadata": {},
   "outputs": [],
   "source": [
    "#library:tkinter\n",
    "#for GUI\n",
    "from tkinter import *\n"
   ]
  },
  {
   "cell_type": "code",
   "execution_count": 4,
   "metadata": {},
   "outputs": [],
   "source": [
    "#Import trainer\n",
    "#library:chatterbot\n",
    "#class:ChatterBotCorpusTrainer\n",
    "from chatterbot.trainers import ChatterBotCorpusTrainer\n"
   ]
  },
  {
   "cell_type": "code",
   "execution_count": 8,
   "metadata": {},
   "outputs": [],
   "source": [
    "#Define the bot's name and create an object\n",
    "bot=ChatBot(\"MyBot\")"
   ]
  },
  {
   "cell_type": "code",
   "execution_count": 6,
   "metadata": {},
   "outputs": [],
   "source": [
    "#define the trainer set\n",
    "bot.set_trainer(ChatterBotCorpusTrainer)"
   ]
  },
  {
   "cell_type": "code",
   "execution_count": 7,
   "metadata": {},
   "outputs": [
    {
     "name": "stdout",
     "output_type": "stream",
     "text": [
      "ai.yml Training: [####################] 100%\n",
      "botprofile.yml Training: [####################] 100%\n",
      "computers.yml Training: [####################] 100%\n",
      "conversations.yml Training: [####################] 100%\n",
      "emotion.yml Training: [####################] 100%\n",
      "food.yml Training: [####################] 100%\n",
      "gossip.yml Training: [####################] 100%\n",
      "greetings.yml Training: [####################] 100%\n",
      "health.yml Training: [####################] 100%\n",
      "history.yml Training: [####################] 100%\n",
      "humor.yml Training: [####################] 100%\n",
      "literature.yml Training: [####################] 100%\n",
      "money.yml Training: [####################] 100%\n",
      "movies.yml Training: [####################] 100%\n",
      "politics.yml Training: [####################] 100%\n",
      "psychology.yml Training: [####################] 100%\n",
      "science.yml Training: [####################] 100%\n",
      "sports.yml Training: [####################] 100%\n",
      "trivia.yml Training: [####################] 100%\n"
     ]
    }
   ],
   "source": [
    "#Train the algorithm\n",
    "#Data:English\n",
    "bot.train('chatterbot.corpus.english')"
   ]
  },
  {
   "cell_type": "code",
   "execution_count": 30,
   "metadata": {},
   "outputs": [],
   "source": [
    "#creating main window\n",
    "main=Tk()\n",
    "#setting the geometry of the window width=500,height=650\n",
    "main.geometry(\"500x650\")\n",
    "#setting the title\n",
    "main.title(\"My Chat Bot\")\n",
    "\n",
    "\n",
    "\n",
    "def complete():\n",
    "    print(\"done\")\n",
    "    msgs.insert(END,\"Bot:Talking to you was a pleasure bye!!\")\n",
    "\n",
    "def ask_from_bot():\n",
    "    print(\"clicked\")\n",
    "    query=textF.get()\n",
    "    ans=bot.get_response(query)\n",
    "    msgs.insert(END,\"you: \"+query)\n",
    "    msgs.insert(END,\"bot: \"+str(ans))\n",
    "    textF.delete(0,END) #to delete the text in textfield\n",
    "\n",
    "#create mainframe\n",
    "frame=Frame(main)\n",
    "\n",
    "#create scrollbar object\n",
    "sc=Scrollbar(frame)\n",
    "\n",
    "#create lisbox to display the contents\n",
    "msgs=Listbox(frame,width=80,height=20)\n",
    "\n",
    "#scrollbar should be present at right side\n",
    "sc.pack(side=RIGHT,fill=Y)\n",
    "\n",
    "msgs.pack(side=LEFT,fill=BOTH,pady=10)\n",
    "frame.pack()\n",
    "\n",
    "#creating the text box\n",
    "textF=Entry(main,font=(\"Verdana\",20))\n",
    "textF.pack(fill=X,pady=10)\n",
    "\n",
    "#button creation\n",
    "btn=Button(main,text=\"Ask from bot\",font=(\"Verdana\",20),command=ask_from_bot)\n",
    "btn.pack()\n",
    "btn1=Button(main,text=\"Exit application\",font=(\"Verdana\",20),command=complete)\n",
    "btn1.pack()\n",
    "main.mainloop()\n"
   ]
  },
  {
   "cell_type": "code",
   "execution_count": null,
   "metadata": {},
   "outputs": [],
   "source": []
  },
  {
   "cell_type": "code",
   "execution_count": null,
   "metadata": {},
   "outputs": [],
   "source": []
  }
 ],
 "metadata": {
  "kernelspec": {
   "display_name": "Python 3",
   "language": "python",
   "name": "python3"
  },
  "language_info": {
   "codemirror_mode": {
    "name": "ipython",
    "version": 3
   },
   "file_extension": ".py",
   "mimetype": "text/x-python",
   "name": "python",
   "nbconvert_exporter": "python",
   "pygments_lexer": "ipython3",
   "version": "3.7.6"
  }
 },
 "nbformat": 4,
 "nbformat_minor": 4
}
